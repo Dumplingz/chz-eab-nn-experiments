{
 "cells": [
  {
   "cell_type": "code",
   "execution_count": 1,
   "metadata": {},
   "outputs": [],
   "source": [
    "import os\n",
    "import torch\n",
    "from torch import nn\n",
    "from torch.utils.data import DataLoader, Subset\n",
    "from torchvision import datasets, transforms\n",
    "from torchvision.transforms import ToTensor, PILToTensor\n",
    "import time\n",
    "import csv"
   ]
  },
  {
   "cell_type": "code",
   "execution_count": 2,
   "metadata": {},
   "outputs": [
    {
     "name": "stdout",
     "output_type": "stream",
     "text": [
      "tensor([[-0.4736, -1.1207,  0.5104,  0.3454,  0.8225],\n",
      "        [-0.9562, -1.0922,  1.2153, -2.3368, -0.2003],\n",
      "        [-1.6257,  1.2905,  0.2290, -1.3769,  0.0810]], requires_grad=True)\n",
      "tensor([0, 4, 2])\n",
      "tensor([[-1.4223,  1.0200, -0.7364, -0.7279,  1.5888],\n",
      "        [ 0.2138, -0.6818, -1.2128,  0.8185, -0.1387],\n",
      "        [-0.8242, -0.3341,  1.9220, -0.7954, -1.7406]], requires_grad=True)\n",
      "tensor([[0.1321, 0.1782, 0.0346, 0.6484, 0.0067],\n",
      "        [0.3993, 0.0462, 0.1565, 0.1386, 0.2594],\n",
      "        [0.4484, 0.0353, 0.1121, 0.0431, 0.3611]])\n"
     ]
    }
   ],
   "source": [
    "# Example of target with class indices\n",
    "loss = nn.CrossEntropyLoss()\n",
    "input = torch.randn(3, 5, requires_grad=True)\n",
    "target = torch.empty(3, dtype=torch.long).random_(5)\n",
    "print(input)\n",
    "print(target)\n",
    "output = loss(input, target)\n",
    "output.backward()\n",
    "# Example of target with class probabilities\n",
    "input = torch.randn(3, 5, requires_grad=True)\n",
    "target = torch.randn(3, 5).softmax(dim=1)\n",
    "print(input)\n",
    "print(target)\n",
    "output = loss(input, target)\n",
    "output.backward()"
   ]
  },
  {
   "cell_type": "code",
   "execution_count": 3,
   "metadata": {},
   "outputs": [
    {
     "name": "stdout",
     "output_type": "stream",
     "text": [
      "Using cpu device\n"
     ]
    }
   ],
   "source": [
    "device = (\n",
    "    \"cuda\"\n",
    "    if torch.cuda.is_available()\n",
    "    else \"mps\"\n",
    "    if torch.backends.mps.is_available()\n",
    "    else \"cpu\"\n",
    ")\n",
    "print(f\"Using {device} device\")"
   ]
  },
  {
   "cell_type": "code",
   "execution_count": 4,
   "metadata": {},
   "outputs": [],
   "source": [
    "# Download training data from open datasets.\n",
    "training_data = datasets.FashionMNIST(\n",
    "    root=\"data\",\n",
    "    train=True,\n",
    "    download=True,\n",
    "    transform=ToTensor(),\n",
    "    # transform=PILToTensor(),\n",
    ")\n",
    "\n",
    "# Download test data from open datasets.\n",
    "test_data = datasets.FashionMNIST(\n",
    "    root=\"data\",\n",
    "    train=False,\n",
    "    download=True,\n",
    "    transform=ToTensor(),\n",
    ")"
   ]
  },
  {
   "cell_type": "code",
   "execution_count": 5,
   "metadata": {},
   "outputs": [
    {
     "name": "stdout",
     "output_type": "stream",
     "text": [
      "Shape of X [N, C, H, W]: torch.Size([64, 1, 28, 28])\n",
      "Shape of y: torch.Size([64]) torch.int64\n"
     ]
    }
   ],
   "source": [
    "batch_size = 64\n",
    "\n",
    "# Create data loaders.\n",
    "train_dataloader = DataLoader(training_data, batch_size=batch_size)\n",
    "test_dataloader = DataLoader(test_data, batch_size=batch_size)\n",
    "\n",
    "for X, y in test_dataloader:\n",
    "    print(f\"Shape of X [N, C, H, W]: {X.shape}\")\n",
    "    print(f\"Shape of y: {y.shape} {y.dtype}\")\n",
    "    break"
   ]
  },
  {
   "cell_type": "code",
   "execution_count": 6,
   "metadata": {},
   "outputs": [],
   "source": [
    "class NeuralNetwork(nn.Module):\n",
    "    def __init__(self):\n",
    "        super().__init__()\n",
    "        self.flatten = nn.Flatten()\n",
    "        self.linear_relu_stack = nn.Sequential(\n",
    "            nn.Linear(28*28, 512),\n",
    "            nn.ReLU(),\n",
    "            nn.Linear(512, 512),\n",
    "            nn.ReLU(),\n",
    "            nn.Linear(512, 10),\n",
    "        )\n",
    "\n",
    "    def forward(self, x):\n",
    "        x = self.flatten(x)\n",
    "        logits = self.linear_relu_stack(x)\n",
    "        return logits"
   ]
  },
  {
   "cell_type": "code",
   "execution_count": 7,
   "metadata": {},
   "outputs": [
    {
     "name": "stdout",
     "output_type": "stream",
     "text": [
      "NeuralNetwork(\n",
      "  (flatten): Flatten(start_dim=1, end_dim=-1)\n",
      "  (linear_relu_stack): Sequential(\n",
      "    (0): Linear(in_features=784, out_features=512, bias=True)\n",
      "    (1): ReLU()\n",
      "    (2): Linear(in_features=512, out_features=512, bias=True)\n",
      "    (3): ReLU()\n",
      "    (4): Linear(in_features=512, out_features=10, bias=True)\n",
      "  )\n",
      ")\n"
     ]
    }
   ],
   "source": [
    "model = NeuralNetwork().to(device)\n",
    "print(model)"
   ]
  },
  {
   "cell_type": "code",
   "execution_count": 8,
   "metadata": {},
   "outputs": [
    {
     "name": "stdout",
     "output_type": "stream",
     "text": [
      "Predicted class: tensor([6])\n"
     ]
    }
   ],
   "source": [
    "X = torch.rand(1, 28, 28, device=device)\n",
    "logits = model(X)\n",
    "pred_probab = nn.Softmax(dim=1)(logits)\n",
    "y_pred = pred_probab.argmax(1)\n",
    "print(f\"Predicted class: {y_pred}\")"
   ]
  },
  {
   "cell_type": "code",
   "execution_count": 9,
   "metadata": {},
   "outputs": [],
   "source": [
    "loss_fn = nn.CrossEntropyLoss()\n",
    "# loss_fn = nn.MSELoss()\n",
    "optimizer = torch.optim.SGD(model.parameters(), lr=1e-3)"
   ]
  },
  {
   "cell_type": "code",
   "execution_count": 10,
   "metadata": {},
   "outputs": [],
   "source": [
    "def train(dataloader, model, loss_fn, optimizer):\n",
    "    size = len(dataloader.dataset)\n",
    "    model.train()\n",
    "    for batch, (X, y) in enumerate(dataloader):\n",
    "        X, y = X.to(device), y.to(device)\n",
    "\n",
    "        # Compute prediction error\n",
    "        pred = model(X.float())\n",
    "        # print(\"pred: \",pred.shape)\n",
    "        # print(\"y:\",y.shape)\n",
    "        loss = loss_fn(pred, y)\n",
    "\n",
    "        # Backpropagation\n",
    "        loss.backward()\n",
    "        optimizer.step()\n",
    "        optimizer.zero_grad()\n",
    "\n",
    "        if batch % 100 == 0:\n",
    "            loss, current = loss.item(), (batch + 1) * len(X)\n",
    "            print(f\"loss: {loss:>7f}  [{current:>5d}/{size:>5d}]\")"
   ]
  },
  {
   "cell_type": "code",
   "execution_count": 11,
   "metadata": {},
   "outputs": [],
   "source": [
    "def test(dataloader, model, loss_fn):\n",
    "    size = len(dataloader.dataset)\n",
    "    num_batches = len(dataloader)\n",
    "    model.eval()\n",
    "    test_loss, correct = 0, 0\n",
    "    with torch.no_grad():\n",
    "        for X, y in dataloader:\n",
    "            X, y = X.to(device), y.to(device)\n",
    "            pred = model(X)\n",
    "            test_loss += loss_fn(pred, y).item()\n",
    "            correct += (pred.argmax(1) == y).type(torch.float).sum().item()\n",
    "    test_loss /= num_batches\n",
    "    correct /= size\n",
    "    print(f\"Test Error: \\n Accuracy: {(100*correct):>0.1f}%, Avg loss: {test_loss:>8f} \\n\")\n",
    "    return correct"
   ]
  },
  {
   "cell_type": "code",
   "execution_count": 12,
   "metadata": {},
   "outputs": [
    {
     "name": "stdout",
     "output_type": "stream",
     "text": [
      "Epoch 1\n",
      "-------------------------------\n",
      "loss: 2.293850  [   64/ 7500]\n",
      "loss: 2.286620  [ 6464/ 7500]\n",
      "Test Error: \n",
      " Accuracy: 14.2%, Avg loss: 2.282512 \n",
      "\n",
      "Epoch 0 took 1.0385390119627118 seconds\n",
      "Epoch 2\n",
      "-------------------------------\n",
      "loss: 2.277496  [   64/ 7500]\n",
      "loss: 2.271391  [ 6464/ 7500]\n",
      "Test Error: \n",
      " Accuracy: 20.8%, Avg loss: 2.264575 \n",
      "\n",
      "Epoch 1 took 1.0930766009842046 seconds\n",
      "Epoch 3\n",
      "-------------------------------\n",
      "loss: 2.261476  [   64/ 7500]\n",
      "loss: 2.256266  [ 6464/ 7500]\n",
      "Test Error: \n",
      " Accuracy: 26.0%, Avg loss: 2.246580 \n",
      "\n",
      "Epoch 2 took 1.153512449003756 seconds\n",
      "Epoch 1\n",
      "-------------------------------\n",
      "loss: 2.245348  [   64/15000]\n",
      "loss: 2.240552  [ 6464/15000]\n",
      "loss: 2.200639  [12864/15000]\n",
      "Test Error: \n",
      " Accuracy: 38.6%, Avg loss: 2.208948 \n",
      "\n",
      "Epoch 0 took 2.146108693035785 seconds\n",
      "Epoch 2\n",
      "-------------------------------\n",
      "loss: 2.210851  [   64/15000]\n",
      "loss: 2.206259  [ 6464/15000]\n",
      "loss: 2.155030  [12864/15000]\n",
      "Test Error: \n",
      " Accuracy: 43.8%, Avg loss: 2.166734 \n",
      "\n",
      "Epoch 1 took 2.0787526270141825 seconds\n",
      "Epoch 3\n",
      "-------------------------------\n",
      "loss: 2.172050  [   64/15000]\n",
      "loss: 2.166395  [ 6464/15000]\n",
      "loss: 2.102109  [12864/15000]\n",
      "Test Error: \n",
      " Accuracy: 46.5%, Avg loss: 2.117315 \n",
      "\n",
      "Epoch 2 took 2.1489108819514513 seconds\n",
      "Epoch 1\n",
      "-------------------------------\n",
      "loss: 2.126583  [   64/30000]\n",
      "loss: 2.118496  [ 6464/30000]\n",
      "loss: 2.038959  [12864/30000]\n",
      "loss: 2.068630  [19264/30000]\n",
      "loss: 2.013460  [25664/30000]\n",
      "Test Error: \n",
      " Accuracy: 57.2%, Avg loss: 1.989475 \n",
      "\n",
      "Epoch 0 took 4.439492110977881 seconds\n",
      "Epoch 2\n",
      "-------------------------------\n",
      "loss: 2.007783  [   64/30000]\n",
      "loss: 1.990896  [ 6464/30000]\n",
      "loss: 1.879461  [12864/30000]\n",
      "loss: 1.920555  [19264/30000]\n",
      "loss: 1.838737  [25664/30000]\n",
      "Test Error: \n",
      " Accuracy: 61.9%, Avg loss: 1.819320 \n",
      "\n",
      "Epoch 1 took 4.617818198981695 seconds\n",
      "Epoch 3\n",
      "-------------------------------\n",
      "loss: 1.851321  [   64/30000]\n",
      "loss: 1.823085  [ 6464/30000]\n",
      "loss: 1.686196  [12864/30000]\n",
      "loss: 1.742044  [19264/30000]\n",
      "loss: 1.641477  [25664/30000]\n",
      "Test Error: \n",
      " Accuracy: 63.5%, Avg loss: 1.633911 \n",
      "\n",
      "Epoch 2 took 4.489927752001677 seconds\n",
      "Epoch 1\n",
      "-------------------------------\n",
      "loss: 1.681252  [   64/60000]\n",
      "loss: 1.650385  [ 6464/60000]\n",
      "loss: 1.500603  [12864/60000]\n",
      "loss: 1.571143  [19264/60000]\n",
      "loss: 1.466438  [25664/60000]\n",
      "loss: 1.444579  [32064/60000]\n",
      "loss: 1.459543  [38464/60000]\n",
      "loss: 1.377898  [44864/60000]\n",
      "loss: 1.409718  [51264/60000]\n",
      "loss: 1.310144  [57664/60000]\n",
      "Test Error: \n",
      " Accuracy: 64.6%, Avg loss: 1.333007 \n",
      "\n",
      "Epoch 0 took 8.775789780018385 seconds\n",
      "Epoch 2\n",
      "-------------------------------\n",
      "loss: 1.397445  [   64/60000]\n",
      "loss: 1.379346  [ 6464/60000]\n",
      "loss: 1.215137  [12864/60000]\n",
      "loss: 1.315247  [19264/60000]\n",
      "loss: 1.203925  [25664/60000]\n",
      "loss: 1.217361  [32064/60000]\n",
      "loss: 1.228826  [38464/60000]\n",
      "loss: 1.167119  [44864/60000]\n",
      "loss: 1.204834  [51264/60000]\n",
      "loss: 1.114884  [57664/60000]\n",
      "Test Error: \n",
      " Accuracy: 65.6%, Avg loss: 1.137521 \n",
      "\n",
      "Epoch 1 took 8.883340527012479 seconds\n",
      "Epoch 3\n",
      "-------------------------------\n",
      "loss: 1.199151  [   64/60000]\n",
      "loss: 1.199679  [ 6464/60000]\n",
      "loss: 1.021329  [12864/60000]\n",
      "loss: 1.150966  [19264/60000]\n",
      "loss: 1.035693  [25664/60000]\n",
      "loss: 1.063814  [32064/60000]\n",
      "loss: 1.083378  [38464/60000]\n",
      "loss: 1.030256  [44864/60000]\n",
      "loss: 1.071520  [51264/60000]\n",
      "loss: 0.992490  [57664/60000]\n",
      "Test Error: \n",
      " Accuracy: 66.2%, Avg loss: 1.010709 \n",
      "\n",
      "Epoch 2 took 8.851314846018795 seconds\n",
      "Done!\n"
     ]
    }
   ],
   "source": [
    "epochs = 3\n",
    "for datasize in [7500,15000,30000,60000]:\n",
    "    for epoch in range(epochs):\n",
    "        subset_training_data = Subset(training_data, range(datasize))\n",
    "        train_dataloader_subset = DataLoader(subset_training_data, batch_size=batch_size)\n",
    "        print(f\"Epoch {epoch+1}\\n-------------------------------\")\n",
    "        epoch_time_start = time.perf_counter()\n",
    "        train(train_dataloader_subset, model, loss_fn, optimizer)\n",
    "        epoch_time_end = time.perf_counter()\n",
    "\n",
    "        test_start_time = epoch_time_end\n",
    "        accuracy = test(test_dataloader, model, loss_fn)\n",
    "        test_end_time = time.perf_counter()\n",
    "\n",
    "        epoch_duration = epoch_time_end - epoch_time_start\n",
    "        test_duration = test_end_time - test_start_time\n",
    "\n",
    "        print(f\"Epoch {epoch} took {epoch_duration} seconds\")\n",
    "        with open(\"datasize_nn.csv\", \"a\") as fp:\n",
    "            wr = csv.writer(fp, dialect='excel')\n",
    "            # epoch_duration, epoch, batch_size, data_size, accuracy, test_duration\n",
    "            wr.writerow([epoch_duration, epoch, batch_size, datasize, accuracy, test_duration])\n",
    "\n",
    "print(\"Done!\")"
   ]
  },
  {
   "cell_type": "code",
   "execution_count": 13,
   "metadata": {},
   "outputs": [
    {
     "name": "stdout",
     "output_type": "stream",
     "text": [
      "Saved PyTorch Model State to model.pth\n"
     ]
    }
   ],
   "source": [
    "torch.save(model.state_dict(), \"model.pth\")\n",
    "print(\"Saved PyTorch Model State to model.pth\")"
   ]
  },
  {
   "cell_type": "code",
   "execution_count": 14,
   "metadata": {},
   "outputs": [
    {
     "data": {
      "text/plain": [
       "<All keys matched successfully>"
      ]
     },
     "execution_count": 14,
     "metadata": {},
     "output_type": "execute_result"
    }
   ],
   "source": [
    "model = NeuralNetwork().to(device)\n",
    "model.load_state_dict(torch.load(\"model.pth\"))"
   ]
  }
 ],
 "metadata": {
  "kernelspec": {
   "display_name": "neuralnet_experiments",
   "language": "python",
   "name": "python3"
  },
  "language_info": {
   "codemirror_mode": {
    "name": "ipython",
    "version": 3
   },
   "file_extension": ".py",
   "mimetype": "text/x-python",
   "name": "python",
   "nbconvert_exporter": "python",
   "pygments_lexer": "ipython3",
   "version": "3.8.10"
  }
 },
 "nbformat": 4,
 "nbformat_minor": 2
}
